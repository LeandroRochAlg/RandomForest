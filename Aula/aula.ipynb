{
 "cells": [
  {
   "cell_type": "markdown",
   "id": "1894601d",
   "metadata": {},
   "source": [
    "Utilizaremos dados do seaborn para esse exercício"
   ]
  },
  {
   "cell_type": "code",
   "execution_count": 376,
   "id": "a36dbaa2",
   "metadata": {},
   "outputs": [],
   "source": [
    "import seaborn as sns\n",
    "\n",
    "random_state = 90"
   ]
  },
  {
   "cell_type": "code",
   "execution_count": 377,
   "id": "8bdfdb23",
   "metadata": {},
   "outputs": [
    {
     "data": {
      "text/plain": [
       "['anagrams',\n",
       " 'anscombe',\n",
       " 'attention',\n",
       " 'brain_networks',\n",
       " 'car_crashes',\n",
       " 'diamonds',\n",
       " 'dots',\n",
       " 'dowjones',\n",
       " 'exercise',\n",
       " 'flights',\n",
       " 'fmri',\n",
       " 'geyser',\n",
       " 'glue',\n",
       " 'healthexp',\n",
       " 'iris',\n",
       " 'mpg',\n",
       " 'penguins',\n",
       " 'planets',\n",
       " 'seaice',\n",
       " 'taxis',\n",
       " 'tips',\n",
       " 'titanic']"
      ]
     },
     "execution_count": 377,
     "metadata": {},
     "output_type": "execute_result"
    }
   ],
   "source": [
    "sns.get_dataset_names()"
   ]
  },
  {
   "cell_type": "code",
   "execution_count": 378,
   "id": "44393a22",
   "metadata": {},
   "outputs": [
    {
     "data": {
      "text/html": [
       "<div>\n",
       "<style scoped>\n",
       "    .dataframe tbody tr th:only-of-type {\n",
       "        vertical-align: middle;\n",
       "    }\n",
       "\n",
       "    .dataframe tbody tr th {\n",
       "        vertical-align: top;\n",
       "    }\n",
       "\n",
       "    .dataframe thead th {\n",
       "        text-align: right;\n",
       "    }\n",
       "</style>\n",
       "<table border=\"1\" class=\"dataframe\">\n",
       "  <thead>\n",
       "    <tr style=\"text-align: right;\">\n",
       "      <th></th>\n",
       "      <th>Year</th>\n",
       "      <th>Country</th>\n",
       "      <th>Spending_USD</th>\n",
       "      <th>Life_Expectancy</th>\n",
       "    </tr>\n",
       "  </thead>\n",
       "  <tbody>\n",
       "    <tr>\n",
       "      <th>254</th>\n",
       "      <td>2017</td>\n",
       "      <td>Japan</td>\n",
       "      <td>4412.852</td>\n",
       "      <td>84.2</td>\n",
       "    </tr>\n",
       "    <tr>\n",
       "      <th>255</th>\n",
       "      <td>2017</td>\n",
       "      <td>USA</td>\n",
       "      <td>10046.472</td>\n",
       "      <td>78.6</td>\n",
       "    </tr>\n",
       "    <tr>\n",
       "      <th>256</th>\n",
       "      <td>2018</td>\n",
       "      <td>Canada</td>\n",
       "      <td>5308.356</td>\n",
       "      <td>82.0</td>\n",
       "    </tr>\n",
       "    <tr>\n",
       "      <th>257</th>\n",
       "      <td>2018</td>\n",
       "      <td>Germany</td>\n",
       "      <td>6281.840</td>\n",
       "      <td>81.0</td>\n",
       "    </tr>\n",
       "    <tr>\n",
       "      <th>258</th>\n",
       "      <td>2018</td>\n",
       "      <td>France</td>\n",
       "      <td>5099.306</td>\n",
       "      <td>82.8</td>\n",
       "    </tr>\n",
       "    <tr>\n",
       "      <th>259</th>\n",
       "      <td>2018</td>\n",
       "      <td>Great Britain</td>\n",
       "      <td>4189.708</td>\n",
       "      <td>81.3</td>\n",
       "    </tr>\n",
       "    <tr>\n",
       "      <th>260</th>\n",
       "      <td>2018</td>\n",
       "      <td>Japan</td>\n",
       "      <td>4554.276</td>\n",
       "      <td>84.3</td>\n",
       "    </tr>\n",
       "    <tr>\n",
       "      <th>261</th>\n",
       "      <td>2018</td>\n",
       "      <td>USA</td>\n",
       "      <td>10451.386</td>\n",
       "      <td>78.7</td>\n",
       "    </tr>\n",
       "    <tr>\n",
       "      <th>262</th>\n",
       "      <td>2019</td>\n",
       "      <td>Canada</td>\n",
       "      <td>5189.721</td>\n",
       "      <td>82.2</td>\n",
       "    </tr>\n",
       "    <tr>\n",
       "      <th>263</th>\n",
       "      <td>2019</td>\n",
       "      <td>Germany</td>\n",
       "      <td>6407.928</td>\n",
       "      <td>81.3</td>\n",
       "    </tr>\n",
       "    <tr>\n",
       "      <th>264</th>\n",
       "      <td>2019</td>\n",
       "      <td>France</td>\n",
       "      <td>5167.839</td>\n",
       "      <td>82.9</td>\n",
       "    </tr>\n",
       "    <tr>\n",
       "      <th>265</th>\n",
       "      <td>2019</td>\n",
       "      <td>Great Britain</td>\n",
       "      <td>4385.463</td>\n",
       "      <td>81.4</td>\n",
       "    </tr>\n",
       "    <tr>\n",
       "      <th>266</th>\n",
       "      <td>2019</td>\n",
       "      <td>Japan</td>\n",
       "      <td>4610.794</td>\n",
       "      <td>84.4</td>\n",
       "    </tr>\n",
       "    <tr>\n",
       "      <th>267</th>\n",
       "      <td>2019</td>\n",
       "      <td>USA</td>\n",
       "      <td>10855.517</td>\n",
       "      <td>78.8</td>\n",
       "    </tr>\n",
       "    <tr>\n",
       "      <th>268</th>\n",
       "      <td>2020</td>\n",
       "      <td>Canada</td>\n",
       "      <td>5828.324</td>\n",
       "      <td>81.7</td>\n",
       "    </tr>\n",
       "    <tr>\n",
       "      <th>269</th>\n",
       "      <td>2020</td>\n",
       "      <td>Germany</td>\n",
       "      <td>6938.983</td>\n",
       "      <td>81.1</td>\n",
       "    </tr>\n",
       "    <tr>\n",
       "      <th>270</th>\n",
       "      <td>2020</td>\n",
       "      <td>France</td>\n",
       "      <td>5468.418</td>\n",
       "      <td>82.3</td>\n",
       "    </tr>\n",
       "    <tr>\n",
       "      <th>271</th>\n",
       "      <td>2020</td>\n",
       "      <td>Great Britain</td>\n",
       "      <td>5018.700</td>\n",
       "      <td>80.4</td>\n",
       "    </tr>\n",
       "    <tr>\n",
       "      <th>272</th>\n",
       "      <td>2020</td>\n",
       "      <td>Japan</td>\n",
       "      <td>4665.641</td>\n",
       "      <td>84.7</td>\n",
       "    </tr>\n",
       "    <tr>\n",
       "      <th>273</th>\n",
       "      <td>2020</td>\n",
       "      <td>USA</td>\n",
       "      <td>11859.179</td>\n",
       "      <td>77.0</td>\n",
       "    </tr>\n",
       "  </tbody>\n",
       "</table>\n",
       "</div>"
      ],
      "text/plain": [
       "     Year        Country  Spending_USD  Life_Expectancy\n",
       "254  2017          Japan      4412.852             84.2\n",
       "255  2017            USA     10046.472             78.6\n",
       "256  2018         Canada      5308.356             82.0\n",
       "257  2018        Germany      6281.840             81.0\n",
       "258  2018         France      5099.306             82.8\n",
       "259  2018  Great Britain      4189.708             81.3\n",
       "260  2018          Japan      4554.276             84.3\n",
       "261  2018            USA     10451.386             78.7\n",
       "262  2019         Canada      5189.721             82.2\n",
       "263  2019        Germany      6407.928             81.3\n",
       "264  2019         France      5167.839             82.9\n",
       "265  2019  Great Britain      4385.463             81.4\n",
       "266  2019          Japan      4610.794             84.4\n",
       "267  2019            USA     10855.517             78.8\n",
       "268  2020         Canada      5828.324             81.7\n",
       "269  2020        Germany      6938.983             81.1\n",
       "270  2020         France      5468.418             82.3\n",
       "271  2020  Great Britain      5018.700             80.4\n",
       "272  2020          Japan      4665.641             84.7\n",
       "273  2020            USA     11859.179             77.0"
      ]
     },
     "execution_count": 378,
     "metadata": {},
     "output_type": "execute_result"
    }
   ],
   "source": [
    "healthexp = sns.load_dataset(\"healthexp\")\n",
    "healthexp.tail(20)"
   ]
  },
  {
   "cell_type": "markdown",
   "id": "79e8d504",
   "metadata": {},
   "source": [
    "Faremos agora, uma coluna com a média da expectativa de vida por ano para todos os países"
   ]
  },
  {
   "cell_type": "code",
   "execution_count": null,
   "id": "3a465fa8",
   "metadata": {},
   "outputs": [],
   "source": []
  },
  {
   "cell_type": "code",
   "execution_count": null,
   "id": "61b979d8",
   "metadata": {},
   "outputs": [],
   "source": []
  },
  {
   "cell_type": "code",
   "execution_count": null,
   "id": "37b786c1",
   "metadata": {},
   "outputs": [],
   "source": []
  },
  {
   "cell_type": "markdown",
   "id": "9f7d7279",
   "metadata": {},
   "source": [
    "A queda no ano de 2020 pode prejudicar nossa análise, por isso escolhemos remover esse ano do nosso dataset."
   ]
  },
  {
   "cell_type": "code",
   "execution_count": null,
   "id": "537e0faf",
   "metadata": {},
   "outputs": [],
   "source": []
  },
  {
   "cell_type": "markdown",
   "id": "ccb9f9c0",
   "metadata": {},
   "source": [
    "Dividiremos o dataset entre:\n",
    "  - Características: elementos que serão usados pelo modelo para previsão\n",
    "  - Alvo: os valores que queremos prever"
   ]
  },
  {
   "cell_type": "code",
   "execution_count": null,
   "id": "e1f33e0b",
   "metadata": {},
   "outputs": [],
   "source": []
  },
  {
   "cell_type": "markdown",
   "id": "4168034f",
   "metadata": {},
   "source": [
    "Vamos dividir entre treino e teste utilizando o método da própria scikit-learn"
   ]
  },
  {
   "cell_type": "code",
   "execution_count": null,
   "id": "e8921c2a",
   "metadata": {},
   "outputs": [],
   "source": []
  },
  {
   "cell_type": "markdown",
   "id": "dfa86d02",
   "metadata": {},
   "source": [
    "Observe que, ao utilizarmos esse método de separação, estamos separando os datasets de forma aleatória"
   ]
  },
  {
   "cell_type": "markdown",
   "id": "226ca48e",
   "metadata": {},
   "source": [
    "# Prevemos"
   ]
  },
  {
   "cell_type": "markdown",
   "id": "aaae94ff",
   "metadata": {},
   "source": [
    "Criando o modelo"
   ]
  },
  {
   "cell_type": "code",
   "execution_count": null,
   "id": "2cddb759",
   "metadata": {},
   "outputs": [],
   "source": []
  },
  {
   "cell_type": "code",
   "execution_count": null,
   "id": "9a925a73",
   "metadata": {},
   "outputs": [],
   "source": []
  },
  {
   "cell_type": "markdown",
   "id": "cfa76df1",
   "metadata": {},
   "source": [
    "Fazendo a previsão"
   ]
  },
  {
   "cell_type": "code",
   "execution_count": null,
   "id": "036fb0be",
   "metadata": {},
   "outputs": [],
   "source": []
  },
  {
   "cell_type": "markdown",
   "id": "09de8c81",
   "metadata": {},
   "source": [
    "O que isso significa? Vamos plotar pra visualizarmos de forma mais clara"
   ]
  },
  {
   "cell_type": "code",
   "execution_count": null,
   "id": "2bb04049",
   "metadata": {},
   "outputs": [],
   "source": []
  },
  {
   "cell_type": "markdown",
   "id": "cb3135b2",
   "metadata": {},
   "source": [
    "Podemos observar a comparação entre os valores reais e o que foi previsto de forma mais clara utilizando outro gráfico"
   ]
  },
  {
   "cell_type": "code",
   "execution_count": null,
   "id": "37ddd23d",
   "metadata": {},
   "outputs": [],
   "source": []
  },
  {
   "cell_type": "markdown",
   "id": "415f5ae1",
   "metadata": {},
   "source": [
    "Podemos, agora, calcular os erros da nossa previsão"
   ]
  },
  {
   "cell_type": "code",
   "execution_count": null,
   "id": "956ec97b",
   "metadata": {},
   "outputs": [],
   "source": []
  },
  {
   "cell_type": "markdown",
   "id": "915a4253",
   "metadata": {},
   "source": [
    "Agora, podemos repetir o mesmo processo utilizando mais características para, quem sabe, melhorar o resultado"
   ]
  },
  {
   "cell_type": "code",
   "execution_count": null,
   "id": "c155ab45",
   "metadata": {},
   "outputs": [],
   "source": []
  },
  {
   "cell_type": "code",
   "execution_count": null,
   "id": "d899f2e3",
   "metadata": {},
   "outputs": [],
   "source": []
  },
  {
   "cell_type": "code",
   "execution_count": null,
   "id": "ff29838e",
   "metadata": {},
   "outputs": [],
   "source": []
  },
  {
   "cell_type": "code",
   "execution_count": null,
   "id": "e001ca93",
   "metadata": {},
   "outputs": [],
   "source": []
  },
  {
   "cell_type": "code",
   "execution_count": null,
   "id": "bfc2378b",
   "metadata": {},
   "outputs": [],
   "source": []
  },
  {
   "cell_type": "markdown",
   "id": "8c6993be",
   "metadata": {},
   "source": [
    "Vamos fazer um `param_grid` para brincar um pouco com os parametros do nosso modelo e buscar resultados melhores"
   ]
  },
  {
   "cell_type": "code",
   "execution_count": null,
   "id": "0629660c",
   "metadata": {},
   "outputs": [],
   "source": [
    "\n"
   ]
  }
 ],
 "metadata": {
  "kernelspec": {
   "display_name": "Python 3",
   "language": "python",
   "name": "python3"
  },
  "language_info": {
   "codemirror_mode": {
    "name": "ipython",
    "version": 3
   },
   "file_extension": ".py",
   "mimetype": "text/x-python",
   "name": "python",
   "nbconvert_exporter": "python",
   "pygments_lexer": "ipython3",
   "version": "3.12.3"
  }
 },
 "nbformat": 4,
 "nbformat_minor": 5
}
